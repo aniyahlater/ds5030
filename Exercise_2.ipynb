{
 "cells": [
  {
   "cell_type": "code",
   "execution_count": null,
   "id": "b66991b7",
   "metadata": {},
   "outputs": [],
   "source": [
    "class exercise_2:\n",
    "    def __init__(self, data, b):\n",
    "        self.data = data\n",
    "        self.b = b"
   ]
  }
 ],
 "metadata": {
  "kernelspec": {
   "display_name": "ds6001",
   "language": "python",
   "name": "python3"
  },
  "language_info": {
   "name": "python",
   "version": "3.13.5"
  }
 },
 "nbformat": 4,
 "nbformat_minor": 5
}
