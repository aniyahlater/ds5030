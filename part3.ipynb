{
 "cells": [
  {
   "cell_type": "code",
   "execution_count": 1,
   "id": "aaf62bee",
   "metadata": {},
   "outputs": [],
   "source": [
    "import pandas as pd\n"
   ]
  },
  {
   "cell_type": "code",
   "execution_count": null,
   "id": "3f2b3132",
   "metadata": {},
   "outputs": [],
   "source": [
    "def createIQR(self):\n",
    "    self.IQR = self.quantile(0.75) - self.quantile(0.25)\n",
    "    self.upper_whisker = self.quantile(0.75) + 1.5 * (self.IQR)\n",
    "    self.lower_whisker = self.quantile(0.25) - 1.5 * (self.IQR)\n",
    "    "
   ]
  }
 ],
 "metadata": {
  "kernelspec": {
   "display_name": "ds6001",
   "language": "python",
   "name": "python3"
  },
  "language_info": {
   "codemirror_mode": {
    "name": "ipython",
    "version": 3
   },
   "file_extension": ".py",
   "mimetype": "text/x-python",
   "name": "python",
   "nbconvert_exporter": "python",
   "pygments_lexer": "ipython3",
   "version": "3.13.5"
  }
 },
 "nbformat": 4,
 "nbformat_minor": 5
}
